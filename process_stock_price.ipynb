{
 "cells": [
  {
   "cell_type": "code",
   "execution_count": 1,
   "metadata": {},
   "outputs": [],
   "source": [
    "import download_data\n",
    "import pandas as pd\n",
    "import numpy as np\n",
    "# import matplotlib.pyplot as plt\n",
    "# import seaborn as sns\n",
    "import os\n",
    "import sys\n",
    "# reimport \n",
    "import importlib\n",
    "import json\n",
    "import datetime"
   ]
  },
  {
   "cell_type": "code",
   "execution_count": 3,
   "metadata": {},
   "outputs": [],
   "source": [
    "the_file = pd.read_excel(\"/Volumes/Work/mytool/wind_data/Book1.xlsx\", header=1)\n",
    "the_code = [i.split('.')[0] for i in the_file.Code.values]"
   ]
  },
  {
   "cell_type": "code",
   "execution_count": null,
   "metadata": {},
   "outputs": [],
   "source": []
  },
  {
   "cell_type": "code",
   "execution_count": 1,
   "metadata": {},
   "outputs": [],
   "source": [
    "import json\n",
    "\n",
    "\"/Volumes/Work/mytool/mairui_data/the_stock_price_dq_dict.json\"\n",
    "the_file = json.loads(open(\"/Volumes/Work/mytool/mairui_data/the_stock_price_dq_dict.json\").read())\n",
    "for i in the_file.keys():\n",
    "    json.dump(the_file[i], open(f'/Volumes/Work/mytool/mairui_data/dq/{i}.json', 'w'))\n",
    "        "
   ]
  },
  {
   "cell_type": "code",
   "execution_count": null,
   "metadata": {},
   "outputs": [],
   "source": []
  },
  {
   "cell_type": "code",
   "execution_count": 2,
   "metadata": {},
   "outputs": [],
   "source": [
    "the_file = json.loads(open(\"/Volumes/Work/mytool/mairui_data/the_stock_price_dn_dict.json\").read())\n",
    "for i in the_file.keys():\n",
    "    json.dump(the_file[i], open(f'/Volumes/Work/mytool/mairui_data/dn/{i}.json', 'w'))\n",
    "\n",
    "# the_file = json.loads(open(\"/Volumes/Work/mytool/mairui_data/the_stock_price_dq_dict.json\").read())\n",
    "# for i in the_file.keys():\n",
    "#     json.dump(the_file[i], open(f'/Volumes/Work/mytool/mairui_data/dq/{i}.json', 'w'))"
   ]
  },
  {
   "cell_type": "code",
   "execution_count": null,
   "metadata": {},
   "outputs": [],
   "source": []
  }
 ],
 "metadata": {
  "kernelspec": {
   "display_name": "Python 3",
   "language": "python",
   "name": "python3"
  },
  "language_info": {
   "codemirror_mode": {
    "name": "ipython",
    "version": 3
   },
   "file_extension": ".py",
   "mimetype": "text/x-python",
   "name": "python",
   "nbconvert_exporter": "python",
   "pygments_lexer": "ipython3",
   "version": "3.9.4"
  },
  "orig_nbformat": 4
 },
 "nbformat": 4,
 "nbformat_minor": 2
}
