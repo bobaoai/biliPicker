{
 "cells": [
  {
   "cell_type": "code",
   "execution_count": null,
   "metadata": {},
   "outputs": [],
   "source": [
    "import download_data\n",
    "import pandas as pd\n",
    "import numpy as np\n",
    "# import matplotlib.pyplot as plt\n",
    "# import seaborn as sns\n",
    "import os\n",
    "import sys\n",
    "# reimport \n",
    "import importlib\n",
    "import json\n",
    "import datetime"
   ]
  },
  {
   "cell_type": "code",
   "execution_count": null,
   "metadata": {},
   "outputs": [],
   "source": [
    "# reload\n",
    "importlib.reload(download_data)\n",
    "tester = download_data.DownloadData(download_data.DataShelf())"
   ]
  },
  {
   "cell_type": "code",
   "execution_count": null,
   "metadata": {},
   "outputs": [],
   "source": [
    "tester.download_all_stock_price_pipe()"
   ]
  },
  {
   "cell_type": "code",
   "execution_count": null,
   "metadata": {},
   "outputs": [],
   "source": [
    "stock_list = tester.get_stock_list()\n"
   ]
  },
  {
   "cell_type": "code",
   "execution_count": null,
   "metadata": {},
   "outputs": [],
   "source": [
    "the_file = pd.read_excel(\"/Volumes/Work/mytool/wind_data/Book1.xlsx\", header=1)\n",
    "the_code = [i.split('.')[0] for i in the_file.Code.values]"
   ]
  },
  {
   "cell_type": "code",
   "execution_count": null,
   "metadata": {},
   "outputs": [],
   "source": [
    "the_stock_price_dq = tester.get_stock_fsjy(stock_code='688005', level='dq')"
   ]
  },
  {
   "cell_type": "code",
   "execution_count": null,
   "metadata": {},
   "outputs": [],
   "source": [
    "the_stock_price_dq"
   ]
  },
  {
   "cell_type": "code",
   "execution_count": null,
   "metadata": {},
   "outputs": [],
   "source": [
    "len(the_code)"
   ]
  },
  {
   "cell_type": "code",
   "execution_count": null,
   "metadata": {},
   "outputs": [],
   "source": [
    "# import concurrent.futures\n",
    "# the_stock_price_dq_dict = {}\n",
    "# # the_stock_jjxs_dict = {}\n",
    "# # the_stock_cwzy_dict = {}\n",
    "# the_stock_price_dn_dict = {}\n",
    "# with concurrent.futures.ThreadPoolExecutor(max_workers=19) as executor:\n",
    "#     # Submit tasks to the thread pool\n",
    "#     futures_dq = {executor.submit(tester.get_stock_fsjy, i, 'dq'): i for i in the_code[:2500]}\n",
    "#     futures_dn = {executor.submit(tester.get_stock_fsjy, i, 'dn'): i for i in the_code[:2500]}\n",
    "    \n",
    "#     # Collect the results as they become available\n",
    "#     for future in concurrent.futures.as_completed(futures_dq):\n",
    "#         print(future)\n",
    "#         stock_code = futures_dq[future]\n",
    "#         try:\n",
    "#             data = future.result()\n",
    "#             the_stock_price_dq_dict[stock_code] = data\n",
    "#         except Exception as exc:\n",
    "#             print('Exception occurred while getting data for stock code:', stock_code, 'Exception:', exc)\n",
    "    \n",
    "#     for future in concurrent.futures.as_completed(futures_dn):\n",
    "#         stock_code = futures_dn[future]\n",
    "#         try:\n",
    "#             data = future.result()\n",
    "#             the_stock_price_dn_dict[stock_code] = data\n",
    "#         except Exception as exc:\n",
    "#             print('Exception occurred while getting data for stock code:', stock_code, 'Exception:', exc)"
   ]
  },
  {
   "cell_type": "code",
   "execution_count": null,
   "metadata": {},
   "outputs": [],
   "source": [
    "type(the_stock_price_dq_dict)"
   ]
  },
  {
   "cell_type": "code",
   "execution_count": null,
   "metadata": {},
   "outputs": [],
   "source": [
    "# json.dumps(the_stock_price_dq_dict, '/Volumes/Work/mytool/mairui_data/the_stock_price_dq_dict.json')\n",
    "json.dump(the_stock_price_dq_dict, open('/Volumes/Work/mytool/mairui_data/the_stock_price_dq_dict.json', 'w'))\n",
    "json.dump(the_stock_price_dn_dict, open('/Volumes/Work/mytool/mairui_data/the_stock_price_dn_dict.json', 'w'))"
   ]
  },
  {
   "cell_type": "code",
   "execution_count": null,
   "metadata": {},
   "outputs": [],
   "source": []
  },
  {
   "cell_type": "code",
   "execution_count": null,
   "metadata": {},
   "outputs": [],
   "source": [
    "# import concurrent.futures\n",
    "the_stock_price_dq_dict = {}\n",
    "# # the_stock_jjxs_dict = {}\n",
    "# # the_stock_cwzy_dict = {}\n",
    "the_stock_price_dn_dict = {}\n",
    "with concurrent.futures.ThreadPoolExecutor(max_workers=19) as executor:\n",
    "    # Submit tasks to the thread pool\n",
    "    futures_dq = {executor.submit(tester.get_stock_fsjy, i, 'dq'): i for i in the_code[2500:]}\n",
    "    futures_dn = {executor.submit(tester.get_stock_fsjy, i, 'dn'): i for i in the_code[2500:]}\n",
    "    \n",
    "    # Collect the results as they become available\n",
    "    for future in concurrent.futures.as_completed(futures_dq):\n",
    "        # print(future, datetime.datetime.now())\n",
    "        stock_code = futures_dq[future]\n",
    "        try:\n",
    "            data = future.result()\n",
    "            the_stock_price_dq_dict[stock_code] = data\n",
    "        except Exception as exc:\n",
    "            print('Exception occurred while getting data for stock code:', stock_code, 'Exception:', exc)\n",
    "    \n",
    "    for future in concurrent.futures.as_completed(futures_dn):\n",
    "        stock_code = futures_dn[future]\n",
    "        try:\n",
    "            data = future.result()\n",
    "            the_stock_price_dn_dict[stock_code] = data\n",
    "        except Exception as exc:\n",
    "            print('Exception occurred while getting data for stock code:', stock_code, 'Exception:', exc)"
   ]
  },
  {
   "cell_type": "code",
   "execution_count": null,
   "metadata": {},
   "outputs": [],
   "source": [
    "# the_file = json.loads(open(\"/Volumes/Work/mytool/mairui_data/the_stock_price_dn_dict.json\").read())\n",
    "for i in the_stock_price_dn_dict.keys():\n",
    "    json.dump(the_stock_price_dn_dict[i], open(f'/Volumes/Work/mytool/mairui_data/dn/{i}.json', 'w'))\n",
    "\n",
    "# the_file = json.loads(open(\"/Volumes/Work/mytool/mairui_data/the_stock_price_dq_dict.json\").read())\n",
    "for i in the_stock_price_dq_dict.keys():\n",
    "    json.dump(the_stock_price_dq_dict[i], open(f'/Volumes/Work/mytool/mairui_data/dq/{i}.json', 'w'))"
   ]
  },
  {
   "cell_type": "code",
   "execution_count": null,
   "metadata": {},
   "outputs": [],
   "source": [
    "the_stock_price_dn = tester.get_stock_jjxs(stock_code='688005')"
   ]
  },
  {
   "cell_type": "code",
   "execution_count": null,
   "metadata": {},
   "outputs": [],
   "source": [
    "the_stock_price_dq_dict = {}\n",
    "# the_stock_jjxs_dict = {}\n",
    "# the_stock_cwzy_dict = {}\n",
    "the_stock_price_dn_dict = {}\n",
    "for i in the_code:\n",
    "    print(i)\n",
    "    the_stock_price_dq_dict[i] = tester.get_stock_fsjy(stock_code=i, level='dq')\n",
    "    the_stock_price_dn_dict[i] = tester.get_stock_fsjy(stock_code=i, level='dn')\n",
    "    # the_stock_jjxs_dict[i] = tester.get_stock_jjxs(stock_code=i)\n",
    "    # the_stock_cwzy_dict[i] = tester.get_stock_cwzy(stock_code=i)\n"
   ]
  },
  {
   "cell_type": "code",
   "execution_count": null,
   "metadata": {},
   "outputs": [],
   "source": [
    "the_stock_price_dq_dict = {}\n",
    "the_stock_jjxs_dict = {}\n",
    "the_stock_cwzy_dict = {}\n",
    "the_stock_price_dn_dict = {}"
   ]
  },
  {
   "cell_type": "code",
   "execution_count": null,
   "metadata": {},
   "outputs": [],
   "source": [
    "len(the_stock_price_dq_dict)"
   ]
  },
  {
   "cell_type": "code",
   "execution_count": null,
   "metadata": {},
   "outputs": [],
   "source": [
    "len(the_stock_jjxs_dict)"
   ]
  },
  {
   "cell_type": "code",
   "execution_count": null,
   "metadata": {},
   "outputs": [],
   "source": []
  }
 ],
 "metadata": {
  "kernelspec": {
   "display_name": "Python 3",
   "language": "python",
   "name": "python3"
  },
  "language_info": {
   "codemirror_mode": {
    "name": "ipython",
    "version": 3
   },
   "file_extension": ".py",
   "mimetype": "text/x-python",
   "name": "python",
   "nbconvert_exporter": "python",
   "pygments_lexer": "ipython3",
   "version": "3.9.4"
  },
  "orig_nbformat": 4
 },
 "nbformat": 4,
 "nbformat_minor": 2
}
